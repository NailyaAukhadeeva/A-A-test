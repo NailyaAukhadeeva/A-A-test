{
 "cells": [
  {
   "cell_type": "markdown",
   "id": "79d7295b-768f-4765-8f75-1cff649724e9",
   "metadata": {},
   "source": [
    "# Задание № 5.1\n",
    "# АА тест контрольной и экспериментальной групп"
   ]
  },
  {
   "cell_type": "code",
   "execution_count": null,
   "id": "8f93d4d9-8302-411a-aa8e-dc1639e65427",
   "metadata": {},
   "outputs": [],
   "source": [
    "# импортируем библиотеки\n",
    "\n",
    "import pandahouse\n",
    "from scipy import stats # Статистика\n",
    "import seaborn as sns"
   ]
  },
  {
   "cell_type": "code",
   "execution_count": 78,
   "id": "7a8ad35f-50a1-4549-b545-8f6329c5d56c",
   "metadata": {},
   "outputs": [],
   "source": [
    "# указываем параметры подключения к БД\n",
    "connection = {\n",
    "    'host': 'https://clickhouse.lab.karpov.courses',\n",
    "    'password': 'dpo_python_2020',\n",
    "    'user': 'student',\n",
    "    'database': 'simulator_20230520'\n",
    "}"
   ]
  },
  {
   "cell_type": "code",
   "execution_count": 79,
   "id": "576a1be9-078b-44c2-becb-405e0b99efe4",
   "metadata": {},
   "outputs": [],
   "source": [
    "# составляем запрос к данным в БД\n",
    "\n",
    "q = \"\"\"\n",
    "\n",
    "SELECT DISTINCT exp_group,\n",
    "    user_id,\n",
    "    sum(action = 'like')/sum(action = 'view') as ctr\n",
    "FROM {db}.feed_actions \n",
    "WHERE toDate(time) between '2023-04-24' and '2023-04-30'\n",
    "        and exp_group in (2,3)\n",
    "GROUP BY exp_group, user_id\n",
    "\"\"\""
   ]
  },
  {
   "cell_type": "code",
   "execution_count": 80,
   "id": "d9353f20-6463-4075-ac6b-3af0582e6bcf",
   "metadata": {},
   "outputs": [],
   "source": [
    "# вызываем запрос и сохраняем в df полученные данные\n",
    "df = pandahouse.read_clickhouse(q, connection=connection)"
   ]
  },
  {
   "cell_type": "code",
   "execution_count": 81,
   "id": "42959897-589f-48df-b011-7663219d63fa",
   "metadata": {},
   "outputs": [
    {
     "data": {
      "text/html": [
       "<div>\n",
       "<style scoped>\n",
       "    .dataframe tbody tr th:only-of-type {\n",
       "        vertical-align: middle;\n",
       "    }\n",
       "\n",
       "    .dataframe tbody tr th {\n",
       "        vertical-align: top;\n",
       "    }\n",
       "\n",
       "    .dataframe thead th {\n",
       "        text-align: right;\n",
       "    }\n",
       "</style>\n",
       "<table border=\"1\" class=\"dataframe\">\n",
       "  <thead>\n",
       "    <tr style=\"text-align: right;\">\n",
       "      <th></th>\n",
       "      <th>user_id</th>\n",
       "      <th>ctr</th>\n",
       "    </tr>\n",
       "    <tr>\n",
       "      <th>exp_group</th>\n",
       "      <th></th>\n",
       "      <th></th>\n",
       "    </tr>\n",
       "  </thead>\n",
       "  <tbody>\n",
       "    <tr>\n",
       "      <th>2</th>\n",
       "      <td>8480</td>\n",
       "      <td>8480</td>\n",
       "    </tr>\n",
       "    <tr>\n",
       "      <th>3</th>\n",
       "      <td>8569</td>\n",
       "      <td>8569</td>\n",
       "    </tr>\n",
       "  </tbody>\n",
       "</table>\n",
       "</div>"
      ],
      "text/plain": [
       "           user_id   ctr\n",
       "exp_group               \n",
       "2             8480  8480\n",
       "3             8569  8569"
      ]
     },
     "execution_count": 81,
     "metadata": {},
     "output_type": "execute_result"
    }
   ],
   "source": [
    "#проверим равность выборки групп. Количество пользователей в обеих группах различаются незначительно.\n",
    "df.groupby('exp_group').count()"
   ]
  },
  {
   "cell_type": "code",
   "execution_count": 82,
   "id": "349f6b58-8e42-4b00-b2c2-e4e73e4abb58",
   "metadata": {},
   "outputs": [],
   "source": [
    "# увеличили размер графика\n",
    "sns.set(rc={'figure.figsize':(11.7,8.27)})"
   ]
  },
  {
   "cell_type": "code",
   "execution_count": 83,
   "id": "a886b5ae-d167-4e80-a242-70d13aa2fcc7",
   "metadata": {},
   "outputs": [
    {
     "data": {
      "image/png": "[encoded data removed]",
      "text/plain": [
       "<Figure size 842.4x595.44 with 1 Axes>"
      ]
     },
     "metadata": {},
     "output_type": "display_data"
    }
   ],
   "source": [
    "groups = sns.histplot(data = df, \n",
    "              x='ctr', \n",
    "              hue='exp_group', \n",
    "              palette = ['r', 'b'],\n",
    "              alpha=0.5,\n",
    "              kde=False)"
   ]
  },
  {
   "cell_type": "markdown",
   "id": "2c8e1936-0165-41e1-8450-3dfe1d468aa1",
   "metadata": {},
   "source": [
    "Рапределение похоже на нормальное. На первый взгляд визуально ctr групп различаются не статистически значимо."
   ]
  },
  {
   "cell_type": "markdown",
   "id": "5588cdf6-bcee-4b71-87a0-556813d2a3a9",
   "metadata": {},
   "source": [
    "Проведем ttest 10 000 раз, каждый раз формирую новую подвыборку из 500 уникальных ctr в каждой группе. И проверим как часто ttest выдаст статистически значимые различия ctr в подвыбороках."
   ]
  },
  {
   "cell_type": "code",
   "execution_count": 84,
   "id": "27cc0cd4-b49a-412b-aea5-d50c1e46468c",
   "metadata": {},
   "outputs": [],
   "source": [
    "results = []\n",
    "for _ in range (10000):\n",
    "    results.append(stats.ttest_ind(df[df.exp_group == 2].ctr.sample(500, replace=False),\n",
    "                df[df.exp_group == 3].ctr.sample(500, replace=False),\n",
    "                equal_var=False).pvalue)"
   ]
  },
  {
   "cell_type": "markdown",
   "id": "39ad5eec-ffe6-4738-b053-e80ed2508d0a",
   "metadata": {},
   "source": [
    "Посмотрим на распределение pvalue, полученные в результате запуска 10 000 тестов. Распределения явно выраженное нормальное."
   ]
  },
  {
   "cell_type": "code",
   "execution_count": 76,
   "id": "8fde1364-ce16-4f61-a31e-7d320b6cb4b2",
   "metadata": {},
   "outputs": [
    {
     "data": {
      "image/png": "[encoded data removed]",
      "text/plain": [
       "<Figure size 842.4x595.44 with 1 Axes>"
      ]
     },
     "metadata": {},
     "output_type": "display_data"
    }
   ],
   "source": [
    "pval = sns.histplot(data = results, \n",
    "              alpha=0.5,\n",
    "              kde=False)"
   ]
  },
  {
   "cell_type": "code",
   "execution_count": null,
   "id": "c39ba695-6060-41c1-8c78-b81780d1be1d",
   "metadata": {},
   "outputs": [],
   "source": [
    "print(f' При проведении 10000 t-тестов только {len([i for i in results if i < 0.05]) * 100 / len(results) } % результатов показало стат.значимые различия ctr между группами 2 и 3')"
   ]
  },
  {
   "cell_type": "markdown",
   "id": "1f277ae9-ea10-4831-a62b-0b97b53c0f96",
   "metadata": {},
   "source": [
    "Полученный результат позволяет нам предположить, что проведенное сплитование пользователей достигло поставленных целей, т.е. количество пользователей в группах значимо не отличается и показатели в группах (до выкатки нового функционала) также стат.значимо не отличаются."
   ]
  },
  {
   "cell_type": "code",
   "execution_count": null,
   "id": "ed1d822b-6080-43ef-a563-b18f2d21e639",
   "metadata": {},
   "outputs": [],
   "source": []
  }
 ],
 "metadata": {
  "kernelspec": {
   "display_name": "Python 3 (ipykernel)",
   "language": "python",
   "name": "python3"
  },
  "language_info": {
   "codemirror_mode": {
    "name": "ipython",
    "version": 3
   },
   "file_extension": ".py",
   "mimetype": "text/x-python",
   "name": "python",
   "nbconvert_exporter": "python",
   "pygments_lexer": "ipython3",
   "version": "3.8.10"
  }
 },
 "nbformat": 4,
 "nbformat_minor": 5
}
